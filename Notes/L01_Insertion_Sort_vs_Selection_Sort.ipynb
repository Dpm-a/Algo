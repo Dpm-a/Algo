{
 "cells": [
  {
   "cell_type": "markdown",
   "metadata": {},
   "source": [
    "## Selection Sort and Insertion Sort \n",
    "-----"
   ]
  },
  {
   "cell_type": "code",
   "execution_count": 1,
   "metadata": {},
   "outputs": [],
   "source": [
    "import math\n",
    "import numpy as np\n",
    "import random"
   ]
  },
  {
   "cell_type": "code",
   "execution_count": 2,
   "metadata": {},
   "outputs": [],
   "source": [
    "import matplotlib.pyplot as plt\n",
    "plt.style.use('classic')\n",
    "%matplotlib inline\n",
    "\n",
    "import seaborn as sns\n",
    "sns.set()"
   ]
  },
  {
   "cell_type": "markdown",
   "metadata": {},
   "source": [
    "----\n",
    "\n",
    "### Selection Sort"
   ]
  },
  {
   "cell_type": "code",
   "execution_count": 3,
   "metadata": {},
   "outputs": [],
   "source": [
    "def selectionSort(coll):\n",
    "    n_instr = 0\n",
    "    A = list(coll)\n",
    "    for i in range(len(A)): \n",
    "        # Find the minimum element in remaining unsorted array \n",
    "        min_idx = i \n",
    "        for j in range(i+1, len(A)): \n",
    "            if A[min_idx] > A[j]: \n",
    "                min_idx = j \n",
    "                n_instr += 1\n",
    "            n_instr += 2\n",
    "\n",
    "        # Swap the found minimum element with  \n",
    "        # the first element         \n",
    "        A[i], A[min_idx] = A[min_idx], A[i]\n",
    "        n_instr += 2\n",
    "    return A, n_instr"
   ]
  },
  {
   "cell_type": "code",
   "execution_count": 4,
   "metadata": {},
   "outputs": [
    {
     "name": "stdout",
     "output_type": "stream",
     "text": [
      "([0, 1, 2, 3, 4, 5, 6, 7, 8, 9], 135)\n"
     ]
    }
   ],
   "source": [
    "## Check correctdness your implementation!\n",
    "\n",
    "def test_sortedness(my_list):\n",
    "    return my_list == sorted(my_list)\n",
    "\n",
    "my_list = list(range(10))[::-1]\n",
    "\n",
    "print(selectionSort(my_list))\n",
    "\n",
    "assert test_sortedness( selectionSort(my_list)[0] ), \"Must be increasing!\""
   ]
  },
  {
   "cell_type": "markdown",
   "metadata": {},
   "source": [
    "----\n",
    "\n",
    "### Insertion Sort"
   ]
  },
  {
   "cell_type": "code",
   "execution_count": 5,
   "metadata": {},
   "outputs": [],
   "source": [
    "def insertionSort(coll):\n",
    "    n_instr = 0\n",
    "    A = list(coll)\n",
    "    for i in range(1, len(A)):\n",
    "        curr = A[i]\n",
    "        j = i-1\n",
    "        n_instr += 3\n",
    "        while j >= 0 and curr < A[j]:\n",
    "            A[j+1] = A[j]\n",
    "            j -= 1\n",
    "            n_instr += 3\n",
    "        A[j+1] = curr\n",
    "    return A, n_instr"
   ]
  },
  {
   "cell_type": "code",
   "execution_count": 6,
   "metadata": {},
   "outputs": [
    {
     "name": "stdout",
     "output_type": "stream",
     "text": [
      "([0, 1, 2, 3, 4, 5, 6, 7, 8, 9], 162)\n"
     ]
    }
   ],
   "source": [
    "## Check correctdness your implementation!\n",
    "\n",
    "my_list = list(range(10))[::-1]\n",
    "\n",
    "print(insertionSort(my_list))\n",
    "\n",
    "assert test_sortedness( insertionSort(my_list)[0] ), \"Must be increasing!\""
   ]
  },
  {
   "cell_type": "markdown",
   "metadata": {},
   "source": [
    "-------\n",
    "### Selection Sort vs Insertion Sort"
   ]
  },
  {
   "cell_type": "markdown",
   "metadata": {},
   "source": [
    "### Test on Random Arrays (close to worst case for both)"
   ]
  },
  {
   "cell_type": "code",
   "execution_count": 7,
   "metadata": {},
   "outputs": [],
   "source": [
    "ops_IS = []\n",
    "ops_SS = []\n",
    "ns = []\n",
    "\n",
    "n_repeats = 10\n",
    "start = 6\n",
    "end = 14\n",
    "\n",
    "for i in range(start, end): # Use powers of two\n",
    "        ns.append( int(math.pow(2, i)) )"
   ]
  },
  {
   "cell_type": "code",
   "execution_count": 8,
   "metadata": {},
   "outputs": [
    {
     "name": "stdout",
     "output_type": "stream",
     "text": [
      "3272\t4344\n",
      "12647\t16954\n",
      "49643\t66830\n",
      "198391\t265124\n",
      "791990\t1055255\n",
      "3144489\t4208990\n",
      "12605286\t16809590\n",
      "50227669\t67178949\n"
     ]
    }
   ],
   "source": [
    "for n in ns:\n",
    "    tot_IS = 0\n",
    "    tot_SS = 0\n",
    "    for _ in range(n_repeats):\n",
    "        A = np.random.permutation(n)\n",
    "        _, IS = insertionSort(A)\n",
    "        _, SS = selectionSort(A)\n",
    "        tot_IS += IS\n",
    "        tot_SS += SS\n",
    "    ops_IS.append( int(tot_IS / n_repeats) ) ## put avg\n",
    "    ops_SS.append( int(tot_SS / n_repeats) )\n"
   ]
  },
  {
   "cell_type": "code",
   "execution_count": 10,
   "metadata": {},
   "outputs": [
    {
     "name": "stdout",
     "output_type": "stream",
     "text": [
      "64\t3272\t4344\t51.125\t67.875\n",
      "128\t12647\t16954\t98.8046875\t132.453125\n",
      "256\t49643\t66830\t193.91796875\t261.0546875\n",
      "512\t198391\t265124\t387.482421875\t517.8203125\n",
      "1024\t791990\t1055255\t773.427734375\t1030.5224609375\n",
      "2048\t3144489\t4208990\t1535.39501953125\t2055.1708984375\n",
      "4096\t12605286\t16809590\t3077.46240234375\t4103.90380859375\n",
      "8192\t50227669\t67178949\t6131.3072509765625\t8200.555297851562\n"
     ]
    }
   ],
   "source": [
    "for IS, SS, n in zip(ops_IS, ops_SS, ns):\n",
    "    print(n, IS, SS, IS/n, SS/n, sep=\"\\t\")"
   ]
  },
  {
   "cell_type": "markdown",
   "metadata": {},
   "source": [
    "### Plot"
   ]
  },
  {
   "cell_type": "code",
   "execution_count": 11,
   "metadata": {},
   "outputs": [
    {
     "data": {
      "image/png": "[encoded data removed]",
      "text/plain": [
       "<Figure size 432x288 with 1 Axes>"
      ]
     },
     "metadata": {},
     "output_type": "display_data"
    }
   ],
   "source": [
    "fig, ax = plt.subplots()  # Create a figure and an axes.\n",
    "ax.plot(ns, ops_IS, label='Insertion sort')\n",
    "ax.plot(ns, ops_SS, label='Selection sort')\n",
    "ax.set_title(\"Random arrays\")\n",
    "ax.set_xlabel('Input size')  # Add an x-label to the axes.\n",
    "ax.set_ylabel('Number instructions')  # Add a y-label to the axes.\n",
    "_ = ax.legend(loc=\"upper left\")"
   ]
  },
  {
   "cell_type": "markdown",
   "metadata": {},
   "source": [
    "### Test on almost sorted arrays (close to best case for Insertion Sort)"
   ]
  },
  {
   "cell_type": "code",
   "execution_count": 15,
   "metadata": {},
   "outputs": [],
   "source": [
    "n_changes = 0.01 # permute 10% of the elements in a sorted array\n",
    "ops_IS = []\n",
    "ops_SS = []\n",
    "\n",
    "for n in ns:\n",
    "    tot_IS = 0\n",
    "    tot_SS = 0\n",
    "    for _ in range(n_repeats):\n",
    "        A = np.arange(n)\n",
    "        \n",
    "        for _ in range(int(n_changes*n)):\n",
    "            i = random.randint(0, n-1)\n",
    "            j = random.randint(0, n-1)\n",
    "            A[i], A[j] = A[j], A[i]\n",
    "            \n",
    "        _, IS = insertionSort(A)\n",
    "        _, SS = selectionSort(A)\n",
    "        tot_IS += IS\n",
    "        tot_SS += SS\n",
    "    ops_IS.append( int(tot_IS / n_repeats) ) ## put avg\n",
    "    ops_SS.append( int(tot_SS / n_repeats) )"
   ]
  },
  {
   "cell_type": "code",
   "execution_count": 13,
   "metadata": {},
   "outputs": [
    {
     "name": "stdout",
     "output_type": "stream",
     "text": [
      "64\t703\t4171\t10.984375\t65.171875\n",
      "128\t2694\t16537\t21.046875\t129.1953125\n",
      "256\t12214\t65844\t47.7109375\t257.203125\n",
      "512\t45787\t262765\t89.427734375\t513.212890625\n",
      "1024\t189190\t1049818\t184.755859375\t1025.212890625\n",
      "2048\t737654\t4196789\t360.1826171875\t2049.21337890625\n",
      "4096\t2905028\t16782190\t709.2353515625\t4097.21435546875\n",
      "8192\t11608311\t67118811\t1417.0301513671875\t8193.214233398438\n"
     ]
    }
   ],
   "source": [
    "for IS, SS, n in zip(ops_IS, ops_SS, ns):\n",
    "    print(n, IS, SS, IS/n, SS/n, sep=\"\\t\")"
   ]
  },
  {
   "cell_type": "code",
   "execution_count": 14,
   "metadata": {},
   "outputs": [
    {
     "data": {
      "image/png": "[encoded data removed]",
      "text/plain": [
       "<Figure size 432x288 with 1 Axes>"
      ]
     },
     "metadata": {},
     "output_type": "display_data"
    }
   ],
   "source": [
    "fig, ax = plt.subplots()  # Create a figure and an axes.\n",
    "ax.plot(ns, ops_IS, label='Insertion sort')\n",
    "ax.plot(ns, ops_SS, label='Selection sort')\n",
    "ax.set_title(\"Almost sorted arrays\")\n",
    "ax.set_xlabel('Input size')  # Add an x-label to the axes.\n",
    "ax.set_ylabel('Number instructions')  # Add a y-label to the axes.\n",
    "_ = ax.legend(loc=\"upper left\")"
   ]
  },
  {
   "cell_type": "code",
   "execution_count": null,
   "metadata": {},
   "outputs": [],
   "source": []
  }
 ],
 "metadata": {
  "kernelspec": {
   "display_name": "Python 3",
   "language": "python",
   "name": "python3"
  },
  "language_info": {
   "codemirror_mode": {
    "name": "ipython",
    "version": 3
   },
   "file_extension": ".py",
   "mimetype": "text/x-python",
   "name": "python",
   "nbconvert_exporter": "python",
   "pygments_lexer": "ipython3",
   "version": "3.8.5"
  }
 },
 "nbformat": 4,
 "nbformat_minor": 2
}
