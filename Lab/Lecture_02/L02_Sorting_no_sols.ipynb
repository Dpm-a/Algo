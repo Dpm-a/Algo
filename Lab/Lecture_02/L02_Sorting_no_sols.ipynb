{
 "cells": [
  {
   "cell_type": "markdown",
   "metadata": {},
   "source": [
    "## Advanced Sorting Algorithms: QuickSort and Merge Sort"
   ]
  },
  {
   "cell_type": "code",
   "execution_count": null,
   "metadata": {},
   "outputs": [],
   "source": [
    "## Define some function useful for testing\n",
    "import random\n",
    "\n",
    "## generate an array of n random integers up to 10000\n",
    "def get_random_array(n):\n",
    "    return [random.randint(0, 10000) for _ in range(n)]\n",
    "\n",
    "def test_sorting_algorithm(algorithm):\n",
    "    for _ in range(100):\n",
    "        A = get_random_array(random.randint(0, 1000))\n",
    "        A_sorted = algorithm(A)\n",
    "        assert A_sorted == sorted(A), \"FAIL!\"\n",
    "        \n",
    "# testing testing function\n",
    "test_sorting_algorithm(sorted)"
   ]
  },
  {
   "cell_type": "markdown",
   "metadata": {},
   "source": [
    "## QuickSort \n",
    "\n",
    "Quicksort is a divide-and-conquer algorithm. It works by selecting a 'pivot' element from the array and partitioning the other elements into two sub-arrays, according to whether they are less than or greater than the pivot. The sub-arrays are then sorted recursively. This can be done **in-place**, requiring small additional amounts of memory to perform the sorting.\n",
    "\n",
    "Thus, the most important part of QuickSort is its partition algorithm. \n",
    "Given a pivot element, the partition algorithm splits a subarray into three parts.\n",
    "\n",
    "- Elements that are smaller than or equal to the pivot\n",
    "- The pivot\n",
    "- Elements that are greater than or equal to the pivot\n",
    "\n",
    "The algorithm works in-place, i.e., it performs the partition within the subarray itself without any extra space."
   ]
  },
  {
   "cell_type": "markdown",
   "metadata": {},
   "source": [
    "![alt text](partition_algorithm.png \"Partition: pseudocode\")"
   ]
  },
  {
   "cell_type": "markdown",
   "metadata": {},
   "source": [
    "![alt text](partition_figure.png \"Figure\")"
   ]
  },
  {
   "cell_type": "markdown",
   "metadata": {},
   "source": [
    "![alt text](partition_running_example.png \"Title\")"
   ]
  },
  {
   "cell_type": "markdown",
   "metadata": {},
   "source": [
    "### Exercise: Binary Vector\n",
    "You are given a binary vector, i.e., each element is either 0 or 1. Implements an easy variant of partition to sort the vector."
   ]
  },
  {
   "cell_type": "code",
   "execution_count": null,
   "metadata": {},
   "outputs": [],
   "source": [
    "import random \n",
    "\n",
    "binary = [random.randint(0,1) for _ in range(20)]\n",
    "print(binary)"
   ]
  },
  {
   "cell_type": "code",
   "execution_count": null,
   "metadata": {},
   "outputs": [],
   "source": [
    "## Your implementation goes here\n"
   ]
  },
  {
   "cell_type": "markdown",
   "metadata": {},
   "source": [
    "### Exercise: QuickSort\n",
    "Below an implementation of QuickSort. \n",
    "\n",
    "In this exercise you have to:\n",
    "- Write detailed comments to describe crucial parts of the code below (to prove you have understand it)\n",
    "- Implement a random selection of the pivot element"
   ]
  },
  {
   "cell_type": "code",
   "execution_count": null,
   "metadata": {},
   "outputs": [],
   "source": [
    "def partition(A, low, high): \n",
    "    pivot = A[high]\n",
    "    i = low-1\n",
    "  \n",
    "    for j in range(low, high): \n",
    "        if A[j] <= pivot: \n",
    "            i = i+1 \n",
    "            A[i], A[j] = A[j], A[i] \n",
    "  \n",
    "    A[i+1], A[high] = A[high], A[i+1] \n",
    "    return i+1"
   ]
  },
  {
   "cell_type": "code",
   "execution_count": null,
   "metadata": {},
   "outputs": [],
   "source": [
    "def quickSort_rec(A, low, high):\n",
    "    if low < high: \n",
    "        pi = partition(A, low, high) \n",
    "        quickSort_rec(A, low, pi-1) \n",
    "        quickSort_rec(A, pi+1, high) "
   ]
  },
  {
   "cell_type": "code",
   "execution_count": null,
   "metadata": {},
   "outputs": [],
   "source": [
    "def quickSort(B):\n",
    "    A = B[:] # Copy the array just because we decided to return a sorted copy of the original array \n",
    "    quickSort_rec(A, 0, len(A)-1)\n",
    "    return A"
   ]
  },
  {
   "cell_type": "code",
   "execution_count": null,
   "metadata": {},
   "outputs": [],
   "source": [
    "quickSort([2, 1, 4, 3])"
   ]
  },
  {
   "cell_type": "code",
   "execution_count": null,
   "metadata": {},
   "outputs": [],
   "source": [
    "test_sorting_algorithm(quickSort)"
   ]
  },
  {
   "cell_type": "markdown",
   "metadata": {},
   "source": [
    "## Let's do some experiments\n",
    "\n",
    "Is QuickSort faster than InsertionSort and SelectionSort in practice?"
   ]
  },
  {
   "cell_type": "code",
   "execution_count": null,
   "metadata": {},
   "outputs": [],
   "source": [
    "T(n) = T(n-1) + c*n\n",
    "\n",
    "Theta(n^2) worst case\n",
    "\n",
    "T(n) = 2T(n/2) + c*n \n",
    "\n",
    "Theta(n log n) best case"
   ]
  },
  {
   "cell_type": "code",
   "execution_count": null,
   "metadata": {},
   "outputs": [],
   "source": [
    "def insertionSort(coll):\n",
    "    A = list(coll)\n",
    "    for i in range(1, len(A)):\n",
    "        curr = A[i]\n",
    "        j = i-1\n",
    "        while j >= 0 and curr < A[j]:\n",
    "            A[j+1] = A[j]\n",
    "            j -= 1\n",
    "        A[j+1] = curr\n",
    "    return A"
   ]
  },
  {
   "cell_type": "code",
   "execution_count": null,
   "metadata": {},
   "outputs": [],
   "source": [
    "def selectionSort(coll):\n",
    "    A = list(coll)\n",
    "    for i in range(len(A)): \n",
    "        # Find the minimum element in remaining unsorted array \n",
    "        min_idx = i \n",
    "        for j in range(i+1, len(A)): \n",
    "            if A[min_idx] > A[j]: \n",
    "                min_idx = j \n",
    "\n",
    "        # Swap the found minimum element with  \n",
    "        # the first element         \n",
    "        A[i], A[min_idx] = A[min_idx], A[i]\n",
    "    return A"
   ]
  },
  {
   "cell_type": "code",
   "execution_count": null,
   "metadata": {},
   "outputs": [],
   "source": [
    "A = get_random_array(1000)"
   ]
  },
  {
   "cell_type": "code",
   "execution_count": null,
   "metadata": {},
   "outputs": [],
   "source": [
    "%timeit quickSort(A)"
   ]
  },
  {
   "cell_type": "code",
   "execution_count": null,
   "metadata": {},
   "outputs": [],
   "source": [
    "%timeit insertionSort(A)"
   ]
  },
  {
   "cell_type": "code",
   "execution_count": null,
   "metadata": {},
   "outputs": [],
   "source": [
    "%timeit selectionSort(A)"
   ]
  },
  {
   "cell_type": "markdown",
   "metadata": {},
   "source": [
    "### More than 20x faster with arrays of length 1000. \n",
    "\n",
    "Try to run the experiments with an array of 10000. **Run insertion sort and selection sort just before you go to sleep.** "
   ]
  },
  {
   "cell_type": "markdown",
   "metadata": {},
   "source": [
    "### Let's see how time changes by increasing the length of the array"
   ]
  },
  {
   "cell_type": "code",
   "execution_count": null,
   "metadata": {},
   "outputs": [],
   "source": [
    "qs_t = []\n",
    "is_t = []\n",
    "ss_t = []\n",
    "\n",
    "lens = [2**i for i in range(1, 11)]\n",
    "\n",
    "for n in lens:\n",
    "    A = get_random_array(n)\n",
    "    result = %timeit -o quickSort(A)\n",
    "    qs_t.append( result.best )\n",
    "    result = %timeit -o insertionSort(A)\n",
    "    is_t.append( result.best )\n",
    "    result = %timeit -o selectionSort(A)\n",
    "    ss_t.append( result.best )"
   ]
  },
  {
   "cell_type": "code",
   "execution_count": null,
   "metadata": {},
   "outputs": [],
   "source": [
    "import matplotlib.pyplot as plt # standard way to import\n",
    "\n",
    "%matplotlib inline # any cell within the notebook that creates a plot will embed a PNG image of the resulting graphic\n",
    "plt.rcParams[\"figure.figsize\"] = (20,10)\n",
    "plt.style.use('ggplot')"
   ]
  },
  {
   "cell_type": "code",
   "execution_count": null,
   "metadata": {},
   "outputs": [],
   "source": [
    "fig = plt.figure()\n",
    "ax = fig.add_subplot(1, 1, 1)\n",
    "\n",
    "ax.plot(lens, qs_t, \"g--\", label=\"QuickSort\")\n",
    "ax.plot(lens, is_t, \"r--\", label=\"InsertionSort\")\n",
    "ax.plot(lens, ss_t, \"b--\", label=\"SelectionSort\")\n",
    "\n",
    "_ = ax.legend(loc=\"best\")"
   ]
  },
  {
   "cell_type": "markdown",
   "metadata": {},
   "source": [
    "## Merge Sort\n",
    "Merge Sort is an efficient, general-purpose, comparison-based sorting algorithm. Most implementations produce a **stable sort**, which means that the order of equal elements is the same in the input and output. \n",
    "\n",
    "Merge sort is a divide and conquer algorithm that was invented by John von Neumann in 1945.\n",
    "\n",
    "Below a running example."
   ]
  },
  {
   "cell_type": "markdown",
   "metadata": {},
   "source": [
    "![alt text](mergesort_figure.png \"Title\")"
   ]
  },
  {
   "cell_type": "markdown",
   "metadata": {},
   "source": [
    "### Exercise: Merge Sort\n",
    "Complete the implementation of Merge Sort by implementing function ```merge()```."
   ]
  },
  {
   "cell_type": "code",
   "execution_count": null,
   "metadata": {},
   "outputs": [],
   "source": [
    "## Your implementation goes here\n",
    "\n",
    "def merge(A, l, m, r): \n",
    "  ## TODO"
   ]
  },
  {
   "cell_type": "code",
   "execution_count": null,
   "metadata": {},
   "outputs": [],
   "source": [
    "def mergeSort_rec(A, l, r): \n",
    "    \n",
    "    if l < r:       \n",
    "        m = (l+(r-1))//2  # Same as (l+r)//2, but avoids overflow for large l and h \n",
    "    \n",
    "        # Sort first and second halves \n",
    "        mergeSort_rec(A, l, m) \n",
    "        mergeSort_rec(A, m+1, r) \n",
    "        merge(A, l, m, r)"
   ]
  },
  {
   "cell_type": "code",
   "execution_count": null,
   "metadata": {},
   "outputs": [],
   "source": [
    "def mergeSort(B):\n",
    "    A = B[:] # Copy the array just because we decided to return a sorted copy of the original array \n",
    "    mergeSort_rec(A, 0, len(A))\n",
    "    return A"
   ]
  },
  {
   "cell_type": "code",
   "execution_count": null,
   "metadata": {},
   "outputs": [],
   "source": [
    "test_sorting_algorithm(mergeSort)"
   ]
  },
  {
   "cell_type": "code",
   "execution_count": null,
   "metadata": {},
   "outputs": [],
   "source": [
    "A = get_random_array(10000)"
   ]
  },
  {
   "cell_type": "code",
   "execution_count": null,
   "metadata": {},
   "outputs": [],
   "source": [
    "%timeit quickSort(A)"
   ]
  },
  {
   "cell_type": "code",
   "execution_count": null,
   "metadata": {},
   "outputs": [],
   "source": [
    "%timeit mergeSort(A)"
   ]
  },
  {
   "cell_type": "code",
   "execution_count": null,
   "metadata": {},
   "outputs": [],
   "source": [
    "B B B | G G G | G G G | B B B\n",
    "\n",
    "B B | G G G |                   G G G | B B B "
   ]
  }
 ],
 "metadata": {
  "kernelspec": {
   "display_name": "Python 3",
   "language": "python",
   "name": "python3"
  },
  "language_info": {
   "codemirror_mode": {
    "name": "ipython",
    "version": 3
   },
   "file_extension": ".py",
   "mimetype": "text/x-python",
   "name": "python",
   "nbconvert_exporter": "python",
   "pygments_lexer": "ipython3",
   "version": "3.9.7"
  },
  "latex_envs": {
   "LaTeX_envs_menu_present": true,
   "autoclose": false,
   "autocomplete": true,
   "bibliofile": "biblio.bib",
   "cite_by": "apalike",
   "current_citInitial": 1,
   "eqLabelWithNumbers": true,
   "eqNumInitial": 1,
   "hotkeys": {
    "equation": "Ctrl-E",
    "itemize": "Ctrl-I"
   },
   "labels_anchors": false,
   "latex_user_defs": false,
   "report_style_numbering": false,
   "user_envs_cfg": false
  },
  "varInspector": {
   "cols": {
    "lenName": 16,
    "lenType": 16,
    "lenVar": 40
   },
   "kernels_config": {
    "python": {
     "delete_cmd_postfix": "",
     "delete_cmd_prefix": "del ",
     "library": "var_list.py",
     "varRefreshCmd": "print(var_dic_list())"
    },
    "r": {
     "delete_cmd_postfix": ") ",
     "delete_cmd_prefix": "rm(",
     "library": "var_list.r",
     "varRefreshCmd": "cat(var_dic_list()) "
    }
   },
   "types_to_exclude": [
    "module",
    "function",
    "builtin_function_or_method",
    "instance",
    "_Feature"
   ],
   "window_display": false
  }
 },
 "nbformat": 4,
 "nbformat_minor": 4
}
