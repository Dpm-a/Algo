{
 "cells": [
  {
   "cell_type": "markdown",
   "metadata": {},
   "source": [
    "## Sorting: Applications\n",
    "\n",
    "----"
   ]
  },
  {
   "cell_type": "code",
   "execution_count": 5,
   "metadata": {},
   "outputs": [],
   "source": [
    "## Define some function useful for testing\n",
    "import random\n",
    "\n",
    "## generate an array of n random integers up to b\n",
    "def get_random_array(n, b = 50):\n",
    "    return [random.randint(0, b) for _ in range(n)]"
   ]
  },
  {
   "cell_type": "markdown",
   "metadata": {},
   "source": [
    "## Priority queue in Python \n",
    "\n",
    "A **heap** is managed by using python’s inbuilt library named ```heapq```. This library has the relevant functions to carry out various operations on heap data structure. Below is a list of these functions.\n",
    "\n",
    "- ```heapify``` converts a regular list to a heap.\n",
    "- ```heappush```  adds an element to the heap without altering the current heap.\n",
    "- ```heappop``` returns (and removes) the smallest data element from the heap.\n",
    "\n",
    "A heap is not a Python's object. It's just a normal list.\n",
    "\n",
    "----\n",
    "\n",
    "\n",
    "### Create a Heap"
   ]
  },
  {
   "cell_type": "code",
   "execution_count": 6,
   "metadata": {},
   "outputs": [
    {
     "name": "stdout",
     "output_type": "stream",
     "text": [
      "[1, 3, 5, 78, 21, 45]\n"
     ]
    }
   ],
   "source": [
    "import heapq\n",
    "\n",
    "H = [21, 1, 45, 78, 3, 5]\n",
    "\n",
    "# Use heapify to rearrange the elements\n",
    "heapq.heapify(H)\n",
    "\n",
    "print(H)"
   ]
  },
  {
   "cell_type": "markdown",
   "metadata": {},
   "source": [
    "### Inserting into a Heap"
   ]
  },
  {
   "cell_type": "code",
   "execution_count": 7,
   "metadata": {},
   "outputs": [
    {
     "name": "stdout",
     "output_type": "stream",
     "text": [
      "[1, 3, 5, 78, 21, 45]\n",
      "[0, 3, 1, 78, 21, 45, 5]\n"
     ]
    }
   ],
   "source": [
    "print(H)\n",
    "\n",
    "heapq.heappush(H, 0)\n",
    "\n",
    "print(H)"
   ]
  },
  {
   "cell_type": "code",
   "execution_count": 8,
   "metadata": {},
   "outputs": [
    {
     "name": "stdout",
     "output_type": "stream",
     "text": [
      "[0, 3, 1, 78, 21, -1, 5]\n",
      "0\n"
     ]
    }
   ],
   "source": [
    "H[5] = -1\n",
    "print(H)\n",
    "\n",
    "m = heapq.heappop(H)\n",
    "print(m)"
   ]
  },
  {
   "cell_type": "markdown",
   "metadata": {},
   "source": [
    "We could use ```heappush``` to build a heap. However, this is slower as shown by the test below. "
   ]
  },
  {
   "cell_type": "code",
   "execution_count": 9,
   "metadata": {},
   "outputs": [],
   "source": [
    "def my_heapify(H):\n",
    "    heap = []\n",
    "    for x in H:\n",
    "        heapq.heappush(heap, x)\n",
    "    return heap"
   ]
  },
  {
   "cell_type": "code",
   "execution_count": 10,
   "metadata": {},
   "outputs": [
    {
     "name": "stdout",
     "output_type": "stream",
     "text": [
      "451 µs ± 14.4 µs per loop (mean ± std. dev. of 7 runs, 1000 loops each)\n",
      "1.43 ms ± 52.7 µs per loop (mean ± std. dev. of 7 runs, 1000 loops each)\n"
     ]
    }
   ],
   "source": [
    "a = get_random_array(10000)\n",
    "H = a[:]\n",
    "\n",
    "%timeit heapq.heapify(H)\n",
    "%timeit my_heapify(a)"
   ]
  },
  {
   "cell_type": "markdown",
   "metadata": {},
   "source": [
    "### Removing from heap \n",
    "We can remove the smallest element from heap by using ```heappop```."
   ]
  },
  {
   "cell_type": "code",
   "execution_count": 11,
   "metadata": {},
   "outputs": [
    {
     "name": "stdout",
     "output_type": "stream",
     "text": [
      "[1, 3, 5, 78, 21, 45]\n",
      "1\n",
      "[3, 21, 5, 78, 45]\n"
     ]
    }
   ],
   "source": [
    "H = [21,1,45,78,3,5]\n",
    "\n",
    "# Use heapify to rearrange the elements\n",
    "heapq.heapify(H)\n",
    "\n",
    "\n",
    "print(H)\n",
    "m = heapq.heappop(H)\n",
    "print(m)\n",
    "print(H)"
   ]
  },
  {
   "cell_type": "code",
   "execution_count": 12,
   "metadata": {},
   "outputs": [
    {
     "name": "stdout",
     "output_type": "stream",
     "text": [
      "3\n"
     ]
    }
   ],
   "source": [
    "print(H[0])"
   ]
  },
  {
   "cell_type": "markdown",
   "metadata": {},
   "source": [
    "### MAX-heap?\n"
   ]
  },
  {
   "cell_type": "code",
   "execution_count": 13,
   "metadata": {},
   "outputs": [
    {
     "name": "stdout",
     "output_type": "stream",
     "text": [
      "[1, 3, 5, 78, 21, 45]\n",
      "[78, 21, 45, 1, 3, 5]\n"
     ]
    }
   ],
   "source": [
    "import heapq\n",
    "minH = [21,1,45,78,3,5]\n",
    "maxH = minH[:]\n",
    "\n",
    "heapq.heapify(minH)             # for a min heap\n",
    "print(minH)\n",
    "\n",
    "heapq._heapify_max(maxH)        # for a max heap!!\n",
    "print(maxH)"
   ]
  },
  {
   "cell_type": "markdown",
   "metadata": {},
   "source": [
    "If you then want to pop elements, use the following."
   ]
  },
  {
   "cell_type": "code",
   "execution_count": 14,
   "metadata": {},
   "outputs": [
    {
     "name": "stdout",
     "output_type": "stream",
     "text": [
      "1\n",
      "78\n"
     ]
    }
   ],
   "source": [
    "m = heapq.heappop(minH)      # pop from minheap\n",
    "print(m)\n",
    "\n",
    "m = heapq._heappop_max(maxH) # pop from maxheap\n",
    "print(m)"
   ]
  },
  {
   "cell_type": "markdown",
   "metadata": {},
   "source": [
    "----\n",
    "\n",
    "### Exercise: K-largest elements of a array\n",
    "\n",
    "We want to compute the K-largest elements of a array A. **Report them sorted**.\n",
    "\n",
    "There are three possible algorithms to solve this problem:\n",
    "\n",
    "\n",
    "#### Algorithm 1: Sorting\n",
    "The easiest way to solve this is by sorting the array in decreasing order and reporting the first K elements. \n",
    "\n",
    "This algorithm costs $\\Theta(n\\log n)$ time. \n",
    "\n",
    "Implement this algorithm in a function ```k_largest_sort(A, K)```and test its correctness.\n",
    "\n",
    "#### Algorithm 2: QuickSelect\n",
    "Implement the QuickSelect algorithm and use it to find the K-largest element E in the array A. Then, scan A again \n",
    "to collect the K elements larger than or equal to E. Finally, sort the collected elements.\n",
    "\n",
    "This algorithm costs $\\Theta(n + K\\log K)$ time (in expectation). \n",
    "\n",
    "Implement this algorithm in a function ```k_largest_quickselect(A, K)```and test its correctness.\n",
    "\n",
    "\n",
    "#### Algorithm 3: Heap\n",
    "You have to implement the following faster algorithm as a function ```k_largest_heap(A,K)```.\n",
    "- Scan the array from left to right and keep a min-heap. The min-heap will contain at most K elements.\n",
    "- Insert the current element into the heap, if the heap has less than K elements or the current element is larger than the minimum in the heap. If the heap has more than K elements, remove the minimum. \n",
    "- Sort the collected elements.\n",
    "\n",
    "This algorithm runs in $\\Theta(n\\log K)$ time.\n",
    "\n",
    "Implement this algorithm in a function ```k_largest_heap(A, K)```and test its correctness.\n",
    "\n",
    "\n",
    "**Compare the three solutions by varying the size of the array and the value K. Which one is the fastest?**"
   ]
  },
  {
   "cell_type": "code",
   "execution_count": 15,
   "metadata": {},
   "outputs": [],
   "source": [
    "def k_largest_sort(A, K):\n",
    "    A = sorted(A,reverse=True)\n",
    "    return A[:K]"
   ]
  },
  {
   "cell_type": "code",
   "execution_count": 16,
   "metadata": {},
   "outputs": [],
   "source": [
    "def partition(A, low, high): \n",
    "\n",
    "    pivot = A[high]\n",
    "    i = low-1\n",
    "  \n",
    "    for j in range(low, high): \n",
    "        if A[j] >= pivot: \n",
    "            i = i+1 \n",
    "            A[i], A[j] = A[j], A[i] \n",
    "  \n",
    "    A[i+1], A[high] = A[high], A[i+1] \n",
    "    return i+1\n",
    "\n",
    "def QuickSelect(arr, left, right, k):\n",
    "    \n",
    "    if left == right:\n",
    "        return arr[left]   #return arr[right] uguale\n",
    "    \n",
    "    index = partition(arr,left,right) \n",
    "    length = index-left+1\n",
    "    \n",
    "    if length == k:\n",
    "        return arr[index]\n",
    "    elif k < length:\n",
    "        return QuickSelect(arr, left, index-1, k)   \n",
    "    return QuickSelect(arr, index+1, right, k-length)\n",
    " \n",
    "def k_largest_quickselect(A, K):\n",
    "    if K > len(A):\n",
    "        return \"K più grande dell'array\"\n",
    "    kth = QuickSelect(A,0,len(A)-1,K)\n",
    "    ks = []\n",
    "    \n",
    "    for elemento in A:\n",
    "        if elemento >= kth and len(ks)<K:\n",
    "            ks.append(elemento)\n",
    "    return sorted(ks)\n",
    "\n",
    "# a = [1,2,3,7,4,9,2,9,1]\n",
    "# k = 5\n",
    "\n",
    "# k_largest_quickselect(a,k)"
   ]
  },
  {
   "cell_type": "code",
   "execution_count": 17,
   "metadata": {},
   "outputs": [],
   "source": [
    "import heapq\n",
    "\n",
    "def k_largest_heap(A,K):\n",
    "    heap = []\n",
    "    heapq.heapify(heap)\n",
    "    \n",
    "    for el in A:\n",
    "        if len(heap) < K:\n",
    "            heapq.heappush(heap,el)\n",
    "        else:\n",
    "            if el > heap[0]:\n",
    "                heapq.heappop(heap)\n",
    "                heapq.heappush(heap,el)\n",
    "\n",
    "    return sorted(heap) \n",
    "\n",
    "# a = [1,2,3,7,4,9,2,9,1]\n",
    "# k = 5\n",
    "\n",
    "# k_largest_heap(a,k)"
   ]
  },
  {
   "cell_type": "code",
   "execution_count": 18,
   "metadata": {},
   "outputs": [],
   "source": [
    "## test your implementation\n",
    "a = get_random_array(1000, 10000)\n",
    "\n",
    "assert sorted(k_largest_sort(a, 10)) == sorted(a)[-10:], \"FAIL!\"  \n",
    "assert sorted(k_largest_quickselect(a, 10)) == sorted(a)[-10:], \"FAIL!\"  \n",
    "assert sorted(k_largest_heap(a, 10)) == sorted(a)[-10:], \"FAIL!\"  "
   ]
  },
  {
   "cell_type": "code",
   "execution_count": null,
   "metadata": {},
   "outputs": [],
   "source": [
    "a = get_random_array(50000, 100)\n",
    "K = 10\n",
    "\n",
    "%timeit k_largest_sort(a, K)\n",
    "%timeit k_largest_quickselect(a, K)\n",
    "%timeit k_largest_heap(a, K)"
   ]
  },
  {
   "cell_type": "markdown",
   "metadata": {
    "slideshow": {
     "slide_type": "subslide"
    }
   },
   "source": [
    "---\n",
    "\n",
    "### Exercise: compute distinct elements\n",
    "You are given a list A of elements and you want to obtain the list of distict elements in A.\n",
    "\n",
    "There are two possible algorithms to do this:\n",
    "\n",
    "- Use ```list(set(A))```\n",
    "- Sort A and then scan. Implement this as a function ```distinct(A)``` \n",
    "\n",
    "Compare these two approaches by varying the size of the array and the number of distinct elements."
   ]
  },
  {
   "cell_type": "code",
   "execution_count": 20,
   "metadata": {},
   "outputs": [],
   "source": [
    "def distinct(A):\n",
    "    A = sorted(A)\n",
    "    l = [A[0]]\n",
    "    j = A[0]\n",
    "    \n",
    "    for el in A:\n",
    "        if el > j:\n",
    "            j = el\n",
    "            l.append(el)\n",
    "    return l\n",
    "\n",
    "# A = [10, 2, 3, 3, 4, 3, 4]\n",
    "# distinct(A)"
   ]
  },
  {
   "cell_type": "code",
   "execution_count": 21,
   "metadata": {},
   "outputs": [],
   "source": [
    "## test your implementation\n",
    "a = get_random_array(1000)\n",
    "\n",
    "assert distinct(a) == sorted(list(set(a))), \"FAIL!\""
   ]
  },
  {
   "cell_type": "markdown",
   "metadata": {},
   "source": [
    "## What's the fastest approach?"
   ]
  },
  {
   "cell_type": "code",
   "execution_count": 22,
   "metadata": {},
   "outputs": [
    {
     "name": "stdout",
     "output_type": "stream",
     "text": [
      "113 µs ± 5.6 µs per loop (mean ± std. dev. of 7 runs, 10000 loops each)\n",
      "1.16 ms ± 35.5 µs per loop (mean ± std. dev. of 7 runs, 1000 loops each)\n"
     ]
    }
   ],
   "source": [
    "a = get_random_array(10000, 10)\n",
    "\n",
    "%timeit list(set(a))\n",
    "%timeit distinct(a)"
   ]
  },
  {
   "cell_type": "markdown",
   "metadata": {},
   "source": [
    "---\n",
    "\n",
    "### Exercise: Pareto frontier of a set of points in 2-D space (aka Skyline problem)\n",
    "We are given a set $S$ of $n$ 2D points.\n",
    "A point $(x,y)$ dominates a point $(x',y')$ iff $𝑥'\\leq 𝑥$ and $y'\\leq 𝑦$. \n",
    "Our goal is to find the set $P$ of dominating points in $S$. \n",
    "This corresponds to find the Pareto frontier (or, equivalently, the skyline). \n",
    "\n",
    "![alt text](skyline.png \"Example\")\n",
    "\n",
    "This problem has a lot of [applications](https://en.wikipedia.org/wiki/Multi-objective_optimization) (and [here](https://en.wikipedia.org/wiki/Pareto_efficiency)).\n",
    "\n",
    "The problem can be solved in $\\Theta(n\\log n)$ time.\n",
    "\n",
    "To find $P$ we need to sort points in $S$ by $x$ in descending order, \n",
    "and if $x$′𝑠 the same by $y$ in descending order. This takes $\\Theta(n\\log n)$ time. \n",
    "Then, we do the following.\n",
    "\n",
    "- Include first point in $P$ and remember this point as $𝑇$. \n",
    "- Iterates through the point (let $C$ current point):\n",
    "* if $C$ is dominated by $T$, then skip $C$ and go to next point;\n",
    "* Otherwise, include $C$ in $P$ and set $𝑇=𝐶$.\n",
    "\n",
    "This step can be performed in linear time.\n",
    "\n",
    "Implement the function ```pareto_frontier(S)```, which returns the pareto frontier $P$ of the points in $S$.\n"
   ]
  },
  {
   "cell_type": "code",
   "execution_count": 23,
   "metadata": {},
   "outputs": [],
   "source": [
    "def pareto_frontier(S):\n",
    "    S = sorted(S, key=lambda x:(x[0],x[1]), reverse=True)\n",
    "    P = [S[0]]\n",
    "    T = S[0]\n",
    "\n",
    "    for el in S[1::]:\n",
    "        if T[0] < el[0] or T[1] < el[1]:\n",
    "            P.append(el)\n",
    "            T=el\n",
    "    print(P)        \n",
    "    return P[::-1]\n"
   ]
  },
  {
   "cell_type": "code",
   "execution_count": 24,
   "metadata": {},
   "outputs": [
    {
     "name": "stdout",
     "output_type": "stream",
     "text": [
      "[(8, 7), (7, 8), (4, 9), (3, 9.5), (1, 10)]\n"
     ]
    }
   ],
   "source": [
    "## Test your implementation here\n",
    "\n",
    "S = [(6, 7.5), (7, 8), (8, 7), (2, 9), (3, 9.5), (1, 10), (4, 9), (5, 8)]\n",
    "\n",
    "assert pareto_frontier(S) == [(1, 10), (3, 9.5), (4, 9), (7, 8), (8, 7)], \"Fail!\""
   ]
  }
 ],
 "metadata": {
  "kernelspec": {
   "display_name": "Python 3 (ipykernel)",
   "language": "python",
   "name": "python3"
  },
  "language_info": {
   "codemirror_mode": {
    "name": "ipython",
    "version": 3
   },
   "file_extension": ".py",
   "mimetype": "text/x-python",
   "name": "python",
   "nbconvert_exporter": "python",
   "pygments_lexer": "ipython3",
   "version": "3.9.7"
  },
  "latex_envs": {
   "LaTeX_envs_menu_present": true,
   "autoclose": false,
   "autocomplete": true,
   "bibliofile": "biblio.bib",
   "cite_by": "apalike",
   "current_citInitial": 1,
   "eqLabelWithNumbers": true,
   "eqNumInitial": 1,
   "hotkeys": {
    "equation": "Ctrl-E",
    "itemize": "Ctrl-I"
   },
   "labels_anchors": false,
   "latex_user_defs": false,
   "report_style_numbering": false,
   "user_envs_cfg": false
  },
  "varInspector": {
   "cols": {
    "lenName": 16,
    "lenType": 16,
    "lenVar": 40
   },
   "kernels_config": {
    "python": {
     "delete_cmd_postfix": "",
     "delete_cmd_prefix": "del ",
     "library": "var_list.py",
     "varRefreshCmd": "print(var_dic_list())"
    },
    "r": {
     "delete_cmd_postfix": ") ",
     "delete_cmd_prefix": "rm(",
     "library": "var_list.r",
     "varRefreshCmd": "cat(var_dic_list()) "
    }
   },
   "types_to_exclude": [
    "module",
    "function",
    "builtin_function_or_method",
    "instance",
    "_Feature"
   ],
   "window_display": false
  }
 },
 "nbformat": 4,
 "nbformat_minor": 4
}
